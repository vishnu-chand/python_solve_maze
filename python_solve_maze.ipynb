{
 "cells": [
  {
   "cell_type": "markdown",
   "metadata": {},
   "source": [
    "# Python solve Maze!!!\n",
    "\n",
    "* Solving maze without machine learning, infact no larning :P\n",
    "\n",
    "* A simple image processing approach to solve maze using morphological operations\n",
    "\n",
    "reference: [Guide to Signals and Patterns in Image Processing](https://link.springer.com/book/10.1007/978-3-319-14172-5)\n"
   ]
  },
  {
   "cell_type": "code",
   "execution_count": 1,
   "metadata": {},
   "outputs": [],
   "source": [
    "# download and install all the requirements\n",
    "# set autoreload 2 to reload .py script changes\n",
    "%load_ext autoreload\n",
    "%autoreload 2\n",
    "import cv2\n",
    "import numpy as np\n",
    "from glob import glob\n",
    "import matplotlib.pyplot as plt\n",
    "from ipywidgets import interact"
   ]
  },
  {
   "cell_type": "code",
   "execution_count": 2,
   "metadata": {},
   "outputs": [],
   "source": [
    "# conver the image to binary\n",
    "# crop maze from image\n",
    "# get the thickness of maze path in pixel\n",
    "def preProcessMaze(oimg):\n",
    "    img = cv2.cvtColor(oimg, cv2.COLOR_BGR2GRAY)\n",
    "    # create binary image using otsu adaptive thresholding\n",
    "    img = cv2.threshold(img, 0, 255, cv2.THRESH_BINARY_INV + cv2.THRESH_OTSU)[1]\n",
    "    # trim the image border\n",
    "    r,c = np.where(img==255)\n",
    "    x0,x1, y0, y1 = r[0], r[-1], c[0], c[-1]\n",
    "    img = img[y0:y1, x0:x1] # crop roi\n",
    "    # on four sides search no of zero pixel on border\n",
    "    mazePathSize = max([(img[0] == 0).sum(),(img[:,0] == 0).sum(),\n",
    "                            (img[1] == 0).sum(), (img[:, 1] == 0).sum()])\n",
    "    return img, mazePathSize"
   ]
  },
  {
   "cell_type": "markdown",
   "metadata": {},
   "source": [
    "Hints:\n",
    "*   A maze consists of walls (255) and paths (0)\n",
    "*   Where the correct path split the maze into two parts.\n",
    "* Dead ends are basically paths (0) surrounded by wall (255) can be detected using closing operations\n",
    "\n",
    "Algorithm:\n",
    "1. Select any one contour and choose a ksize (for good result choose kernel size == pathSize).\n",
    "2. Dilate the contour. This will generate a mask with all possible paths\n",
    "3. Perform closing opertion on the image. This mask shows all the dead ends\n",
    "4. Now find the final path by removing dead ends from the all possible paths.\n"
   ]
  },
  {
   "cell_type": "code",
   "execution_count": 3,
   "metadata": {},
   "outputs": [],
   "source": [
    "def solveMaze(img, kSize, contourIx):\n",
    "    contours, hierarchy = cv2.findContours(img, cv2.RETR_EXTERNAL, cv2.CHAIN_APPROX_SIMPLE)\n",
    "    contourImg = cv2.drawContours(np.zeros_like(img), contours, contourIx, 255, 5)\n",
    "    kernel = np.ones((kSize, kSize), 'u1')\n",
    "    # to solve maze subtract dilation with close\n",
    "    dilation = cv2.morphologyEx(contourImg, cv2.MORPH_DILATE, kernel)\n",
    "    close = cv2.morphologyEx(dilation, cv2.MORPH_ERODE, kernel) # perform closing\n",
    "    diff = cv2.bitwise_xor(dilation, close) # bitwise subraction\n",
    "    return diff, contourImg, dilation, close"
   ]
  },
  {
   "cell_type": "code",
   "execution_count": 18,
   "metadata": {},
   "outputs": [
    {
     "name": "stdout",
     "output_type": "stream",
     "text": [
      "Before using track bar please enablePathSize\n"
     ]
    },
    {
     "data": {
      "application/vnd.jupyter.widget-view+json": {
       "model_id": "aa3ff621f0ca4697b8c2e2e97247791a",
       "version_major": 2,
       "version_minor": 0
      },
      "text/plain": [
       "interactive(children=(Dropdown(description='imPath', options=('maze3.png', 'maze1.png', 'maze2.png'), value='m…"
      ]
     },
     "metadata": {},
     "output_type": "display_data"
    }
   ],
   "source": [
    "def main(imPath, contourIx, enablePathSize, pathSize, figsize):\n",
    "    fig, axs = plt.subplots(nrows=2, ncols=3, figsize=(figsize, figsize))\n",
    "    oimg = cv2.imread(imPath)\n",
    "    dispImgs = []\n",
    "    img, mazePathSize = preProcessMaze(oimg)\n",
    "    if enablePathSize:\n",
    "        mazePathSize = pathSize \n",
    "    path, contourImg, dilation , close = solveMaze(img, mazePathSize, contourIx)\n",
    "    dispImgs.append([\"Contour Image\", contourImg.copy()])\n",
    "    dispImgs.append([\"Dilated Image\", dilation.copy()])\n",
    "    dispImgs.append([\"Close Image\", close.copy()])\n",
    "    dispImgs.append([\"Input\", oimg])\n",
    "    dispImgs.append([\"Path\", path.copy()])\n",
    "    img[path == 255] = 196\n",
    "    dispImgs.append([\"Solution [size: %s]\" % mazePathSize, img.copy()])\n",
    "    for ax, (title, img) in zip(axs.flat, dispImgs):\n",
    "        ax.imshow(img, interpolation='bilinear')\n",
    "        ax.set_title(title)\n",
    "        ax.axis('off')\n",
    "    plt.show()\n",
    "print(\"Before using track bar please enablePathSize\")\n",
    "a = interact(main, imPath=glob('maze*.*'),contourIx=[0,1], enablePathSize=False, pathSize=(1,100), figsize=(5, 16))"
   ]
  },
  {
   "cell_type": "code",
   "execution_count": null,
   "metadata": {},
   "outputs": [],
   "source": []
  }
 ],
 "metadata": {
  "kernelspec": {
   "display_name": "Python 3",
   "language": "python",
   "name": "python3"
  },
  "language_info": {
   "codemirror_mode": {
    "name": "ipython",
    "version": 3
   },
   "file_extension": ".py",
   "mimetype": "text/x-python",
   "name": "python",
   "nbconvert_exporter": "python",
   "pygments_lexer": "ipython3",
   "version": "3.5.2"
  }
 },
 "nbformat": 4,
 "nbformat_minor": 4
}
